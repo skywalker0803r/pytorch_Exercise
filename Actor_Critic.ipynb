{
  "nbformat": 4,
  "nbformat_minor": 0,
  "metadata": {
    "colab": {
      "name": "Actor_Critic.ipynb",
      "provenance": [],
      "collapsed_sections": [],
      "authorship_tag": "ABX9TyOGO318Zx5eHgd+EryjoGuJ",
      "include_colab_link": true
    },
    "kernelspec": {
      "name": "python3",
      "display_name": "Python 3"
    },
    "widgets": {
      "application/vnd.jupyter.widget-state+json": {
        "1d5cde7380294598bd22904ef50d93b9": {
          "model_module": "@jupyter-widgets/controls",
          "model_name": "HBoxModel",
          "state": {
            "_view_name": "HBoxView",
            "_dom_classes": [],
            "_model_name": "HBoxModel",
            "_view_module": "@jupyter-widgets/controls",
            "_model_module_version": "1.5.0",
            "_view_count": null,
            "_view_module_version": "1.5.0",
            "box_style": "",
            "layout": "IPY_MODEL_e98b4c730f8f46259a0a68d7f63b5b4a",
            "_model_module": "@jupyter-widgets/controls",
            "children": [
              "IPY_MODEL_a5845307eee8474fb1953976c6ec87ca",
              "IPY_MODEL_87bf6d2b7f744d8c830fa161c2dcb0b9"
            ]
          }
        },
        "e98b4c730f8f46259a0a68d7f63b5b4a": {
          "model_module": "@jupyter-widgets/base",
          "model_name": "LayoutModel",
          "state": {
            "_view_name": "LayoutView",
            "grid_template_rows": null,
            "right": null,
            "justify_content": null,
            "_view_module": "@jupyter-widgets/base",
            "overflow": null,
            "_model_module_version": "1.2.0",
            "_view_count": null,
            "flex_flow": null,
            "width": null,
            "min_width": null,
            "border": null,
            "align_items": null,
            "bottom": null,
            "_model_module": "@jupyter-widgets/base",
            "top": null,
            "grid_column": null,
            "overflow_y": null,
            "overflow_x": null,
            "grid_auto_flow": null,
            "grid_area": null,
            "grid_template_columns": null,
            "flex": null,
            "_model_name": "LayoutModel",
            "justify_items": null,
            "grid_row": null,
            "max_height": null,
            "align_content": null,
            "visibility": null,
            "align_self": null,
            "height": null,
            "min_height": null,
            "padding": null,
            "grid_auto_rows": null,
            "grid_gap": null,
            "max_width": null,
            "order": null,
            "_view_module_version": "1.2.0",
            "grid_template_areas": null,
            "object_position": null,
            "object_fit": null,
            "grid_auto_columns": null,
            "margin": null,
            "display": null,
            "left": null
          }
        },
        "a5845307eee8474fb1953976c6ec87ca": {
          "model_module": "@jupyter-widgets/controls",
          "model_name": "IntProgressModel",
          "state": {
            "_view_name": "ProgressView",
            "style": "IPY_MODEL_665ba86d0c1a436d81ec3fa6f4b222b6",
            "_dom_classes": [],
            "description": "",
            "_model_name": "IntProgressModel",
            "bar_style": "success",
            "max": 200,
            "_view_module": "@jupyter-widgets/controls",
            "_model_module_version": "1.5.0",
            "value": 200,
            "_view_count": null,
            "_view_module_version": "1.5.0",
            "orientation": "horizontal",
            "min": 0,
            "description_tooltip": null,
            "_model_module": "@jupyter-widgets/controls",
            "layout": "IPY_MODEL_a2019b89df49458c8d8bfaba2a2e16d4"
          }
        },
        "87bf6d2b7f744d8c830fa161c2dcb0b9": {
          "model_module": "@jupyter-widgets/controls",
          "model_name": "HTMLModel",
          "state": {
            "_view_name": "HTMLView",
            "style": "IPY_MODEL_c27e96abb8d14ff899ff5b81bbe45a24",
            "_dom_classes": [],
            "description": "",
            "_model_name": "HTMLModel",
            "placeholder": "​",
            "_view_module": "@jupyter-widgets/controls",
            "_model_module_version": "1.5.0",
            "value": "100% 200/200 [00:32&lt;00:00,  1.01it/s]",
            "_view_count": null,
            "_view_module_version": "1.5.0",
            "description_tooltip": null,
            "_model_module": "@jupyter-widgets/controls",
            "layout": "IPY_MODEL_7721cd792467490c9e583fad481aa954"
          }
        },
        "665ba86d0c1a436d81ec3fa6f4b222b6": {
          "model_module": "@jupyter-widgets/controls",
          "model_name": "ProgressStyleModel",
          "state": {
            "_view_name": "StyleView",
            "_model_name": "ProgressStyleModel",
            "description_width": "",
            "_view_module": "@jupyter-widgets/base",
            "_model_module_version": "1.5.0",
            "_view_count": null,
            "_view_module_version": "1.2.0",
            "bar_color": null,
            "_model_module": "@jupyter-widgets/controls"
          }
        },
        "a2019b89df49458c8d8bfaba2a2e16d4": {
          "model_module": "@jupyter-widgets/base",
          "model_name": "LayoutModel",
          "state": {
            "_view_name": "LayoutView",
            "grid_template_rows": null,
            "right": null,
            "justify_content": null,
            "_view_module": "@jupyter-widgets/base",
            "overflow": null,
            "_model_module_version": "1.2.0",
            "_view_count": null,
            "flex_flow": null,
            "width": null,
            "min_width": null,
            "border": null,
            "align_items": null,
            "bottom": null,
            "_model_module": "@jupyter-widgets/base",
            "top": null,
            "grid_column": null,
            "overflow_y": null,
            "overflow_x": null,
            "grid_auto_flow": null,
            "grid_area": null,
            "grid_template_columns": null,
            "flex": null,
            "_model_name": "LayoutModel",
            "justify_items": null,
            "grid_row": null,
            "max_height": null,
            "align_content": null,
            "visibility": null,
            "align_self": null,
            "height": null,
            "min_height": null,
            "padding": null,
            "grid_auto_rows": null,
            "grid_gap": null,
            "max_width": null,
            "order": null,
            "_view_module_version": "1.2.0",
            "grid_template_areas": null,
            "object_position": null,
            "object_fit": null,
            "grid_auto_columns": null,
            "margin": null,
            "display": null,
            "left": null
          }
        },
        "c27e96abb8d14ff899ff5b81bbe45a24": {
          "model_module": "@jupyter-widgets/controls",
          "model_name": "DescriptionStyleModel",
          "state": {
            "_view_name": "StyleView",
            "_model_name": "DescriptionStyleModel",
            "description_width": "",
            "_view_module": "@jupyter-widgets/base",
            "_model_module_version": "1.5.0",
            "_view_count": null,
            "_view_module_version": "1.2.0",
            "_model_module": "@jupyter-widgets/controls"
          }
        },
        "7721cd792467490c9e583fad481aa954": {
          "model_module": "@jupyter-widgets/base",
          "model_name": "LayoutModel",
          "state": {
            "_view_name": "LayoutView",
            "grid_template_rows": null,
            "right": null,
            "justify_content": null,
            "_view_module": "@jupyter-widgets/base",
            "overflow": null,
            "_model_module_version": "1.2.0",
            "_view_count": null,
            "flex_flow": null,
            "width": null,
            "min_width": null,
            "border": null,
            "align_items": null,
            "bottom": null,
            "_model_module": "@jupyter-widgets/base",
            "top": null,
            "grid_column": null,
            "overflow_y": null,
            "overflow_x": null,
            "grid_auto_flow": null,
            "grid_area": null,
            "grid_template_columns": null,
            "flex": null,
            "_model_name": "LayoutModel",
            "justify_items": null,
            "grid_row": null,
            "max_height": null,
            "align_content": null,
            "visibility": null,
            "align_self": null,
            "height": null,
            "min_height": null,
            "padding": null,
            "grid_auto_rows": null,
            "grid_gap": null,
            "max_width": null,
            "order": null,
            "_view_module_version": "1.2.0",
            "grid_template_areas": null,
            "object_position": null,
            "object_fit": null,
            "grid_auto_columns": null,
            "margin": null,
            "display": null,
            "left": null
          }
        },
        "9770e333c55641aeab11e5be6740c86e": {
          "model_module": "@jupyter-widgets/controls",
          "model_name": "HBoxModel",
          "state": {
            "_view_name": "HBoxView",
            "_dom_classes": [],
            "_model_name": "HBoxModel",
            "_view_module": "@jupyter-widgets/controls",
            "_model_module_version": "1.5.0",
            "_view_count": null,
            "_view_module_version": "1.5.0",
            "box_style": "",
            "layout": "IPY_MODEL_4f289f0fa07c43ffa80ec47fefe131e3",
            "_model_module": "@jupyter-widgets/controls",
            "children": [
              "IPY_MODEL_33aebe332435402f968c29711eb0e997",
              "IPY_MODEL_cf21293ced454f50a133cbde7714bdfd"
            ]
          }
        },
        "4f289f0fa07c43ffa80ec47fefe131e3": {
          "model_module": "@jupyter-widgets/base",
          "model_name": "LayoutModel",
          "state": {
            "_view_name": "LayoutView",
            "grid_template_rows": null,
            "right": null,
            "justify_content": null,
            "_view_module": "@jupyter-widgets/base",
            "overflow": null,
            "_model_module_version": "1.2.0",
            "_view_count": null,
            "flex_flow": null,
            "width": null,
            "min_width": null,
            "border": null,
            "align_items": null,
            "bottom": null,
            "_model_module": "@jupyter-widgets/base",
            "top": null,
            "grid_column": null,
            "overflow_y": null,
            "overflow_x": null,
            "grid_auto_flow": null,
            "grid_area": null,
            "grid_template_columns": null,
            "flex": null,
            "_model_name": "LayoutModel",
            "justify_items": null,
            "grid_row": null,
            "max_height": null,
            "align_content": null,
            "visibility": null,
            "align_self": null,
            "height": null,
            "min_height": null,
            "padding": null,
            "grid_auto_rows": null,
            "grid_gap": null,
            "max_width": null,
            "order": null,
            "_view_module_version": "1.2.0",
            "grid_template_areas": null,
            "object_position": null,
            "object_fit": null,
            "grid_auto_columns": null,
            "margin": null,
            "display": null,
            "left": null
          }
        },
        "33aebe332435402f968c29711eb0e997": {
          "model_module": "@jupyter-widgets/controls",
          "model_name": "IntProgressModel",
          "state": {
            "_view_name": "ProgressView",
            "style": "IPY_MODEL_daca8f7909b4425b874d9bfe9d38c7f3",
            "_dom_classes": [],
            "description": "",
            "_model_name": "IntProgressModel",
            "bar_style": "success",
            "max": 10,
            "_view_module": "@jupyter-widgets/controls",
            "_model_module_version": "1.5.0",
            "value": 10,
            "_view_count": null,
            "_view_module_version": "1.5.0",
            "orientation": "horizontal",
            "min": 0,
            "description_tooltip": null,
            "_model_module": "@jupyter-widgets/controls",
            "layout": "IPY_MODEL_c3c9b6d504224e98bea1a8436f279509"
          }
        },
        "cf21293ced454f50a133cbde7714bdfd": {
          "model_module": "@jupyter-widgets/controls",
          "model_name": "HTMLModel",
          "state": {
            "_view_name": "HTMLView",
            "style": "IPY_MODEL_465abb5bd3ae46959be1325a4b615f94",
            "_dom_classes": [],
            "description": "",
            "_model_name": "HTMLModel",
            "placeholder": "​",
            "_view_module": "@jupyter-widgets/controls",
            "_model_module_version": "1.5.0",
            "value": "100% 10/10 [00:07&lt;00:00,  1.50it/s]",
            "_view_count": null,
            "_view_module_version": "1.5.0",
            "description_tooltip": null,
            "_model_module": "@jupyter-widgets/controls",
            "layout": "IPY_MODEL_82661c28464343c9bbc1d1f8ffc81629"
          }
        },
        "daca8f7909b4425b874d9bfe9d38c7f3": {
          "model_module": "@jupyter-widgets/controls",
          "model_name": "ProgressStyleModel",
          "state": {
            "_view_name": "StyleView",
            "_model_name": "ProgressStyleModel",
            "description_width": "",
            "_view_module": "@jupyter-widgets/base",
            "_model_module_version": "1.5.0",
            "_view_count": null,
            "_view_module_version": "1.2.0",
            "bar_color": null,
            "_model_module": "@jupyter-widgets/controls"
          }
        },
        "c3c9b6d504224e98bea1a8436f279509": {
          "model_module": "@jupyter-widgets/base",
          "model_name": "LayoutModel",
          "state": {
            "_view_name": "LayoutView",
            "grid_template_rows": null,
            "right": null,
            "justify_content": null,
            "_view_module": "@jupyter-widgets/base",
            "overflow": null,
            "_model_module_version": "1.2.0",
            "_view_count": null,
            "flex_flow": null,
            "width": null,
            "min_width": null,
            "border": null,
            "align_items": null,
            "bottom": null,
            "_model_module": "@jupyter-widgets/base",
            "top": null,
            "grid_column": null,
            "overflow_y": null,
            "overflow_x": null,
            "grid_auto_flow": null,
            "grid_area": null,
            "grid_template_columns": null,
            "flex": null,
            "_model_name": "LayoutModel",
            "justify_items": null,
            "grid_row": null,
            "max_height": null,
            "align_content": null,
            "visibility": null,
            "align_self": null,
            "height": null,
            "min_height": null,
            "padding": null,
            "grid_auto_rows": null,
            "grid_gap": null,
            "max_width": null,
            "order": null,
            "_view_module_version": "1.2.0",
            "grid_template_areas": null,
            "object_position": null,
            "object_fit": null,
            "grid_auto_columns": null,
            "margin": null,
            "display": null,
            "left": null
          }
        },
        "465abb5bd3ae46959be1325a4b615f94": {
          "model_module": "@jupyter-widgets/controls",
          "model_name": "DescriptionStyleModel",
          "state": {
            "_view_name": "StyleView",
            "_model_name": "DescriptionStyleModel",
            "description_width": "",
            "_view_module": "@jupyter-widgets/base",
            "_model_module_version": "1.5.0",
            "_view_count": null,
            "_view_module_version": "1.2.0",
            "_model_module": "@jupyter-widgets/controls"
          }
        },
        "82661c28464343c9bbc1d1f8ffc81629": {
          "model_module": "@jupyter-widgets/base",
          "model_name": "LayoutModel",
          "state": {
            "_view_name": "LayoutView",
            "grid_template_rows": null,
            "right": null,
            "justify_content": null,
            "_view_module": "@jupyter-widgets/base",
            "overflow": null,
            "_model_module_version": "1.2.0",
            "_view_count": null,
            "flex_flow": null,
            "width": null,
            "min_width": null,
            "border": null,
            "align_items": null,
            "bottom": null,
            "_model_module": "@jupyter-widgets/base",
            "top": null,
            "grid_column": null,
            "overflow_y": null,
            "overflow_x": null,
            "grid_auto_flow": null,
            "grid_area": null,
            "grid_template_columns": null,
            "flex": null,
            "_model_name": "LayoutModel",
            "justify_items": null,
            "grid_row": null,
            "max_height": null,
            "align_content": null,
            "visibility": null,
            "align_self": null,
            "height": null,
            "min_height": null,
            "padding": null,
            "grid_auto_rows": null,
            "grid_gap": null,
            "max_width": null,
            "order": null,
            "_view_module_version": "1.2.0",
            "grid_template_areas": null,
            "object_position": null,
            "object_fit": null,
            "grid_auto_columns": null,
            "margin": null,
            "display": null,
            "left": null
          }
        }
      }
    }
  },
  "cells": [
    {
      "cell_type": "markdown",
      "metadata": {
        "id": "view-in-github",
        "colab_type": "text"
      },
      "source": [
        "<a href=\"https://colab.research.google.com/github/skywalker0803r/pytorch_Exercise/blob/master/Actor_Critic.ipynb\" target=\"_parent\"><img src=\"https://colab.research.google.com/assets/colab-badge.svg\" alt=\"Open In Colab\"/></a>"
      ]
    },
    {
      "cell_type": "code",
      "metadata": {
        "id": "p9sNN0BYLlcx",
        "colab_type": "code",
        "colab": {}
      },
      "source": [
        "import gym, os\n",
        "from itertools import count\n",
        "import torch\n",
        "import torch.nn as nn\n",
        "import torch.optim as optim\n",
        "import torch.nn.functional as F\n",
        "from torch.distributions import Categorical\n",
        "from tqdm import tqdm_notebook as tqdm\n",
        "import numpy as np\n",
        "import matplotlib.pyplot as plt\n",
        "import torchviz\n",
        "import pandas as pd"
      ],
      "execution_count": 0,
      "outputs": []
    },
    {
      "cell_type": "markdown",
      "metadata": {
        "id": "bN6M48_RaTkQ",
        "colab_type": "text"
      },
      "source": [
        "# hyperparams"
      ]
    },
    {
      "cell_type": "code",
      "metadata": {
        "id": "hgXBzrRlU_RZ",
        "colab_type": "code",
        "colab": {}
      },
      "source": [
        "device = torch.device(\"cuda\" if torch.cuda.is_available() else \"cpu\")\n",
        "env = gym.make(\"CartPole-v0\").unwrapped\n",
        "\n",
        "state_size = env.observation_space.shape[0]\n",
        "action_size = env.action_space.n\n",
        "lr = 0.0001"
      ],
      "execution_count": 0,
      "outputs": []
    },
    {
      "cell_type": "markdown",
      "metadata": {
        "id": "vLdG-4QiaJHe",
        "colab_type": "text"
      },
      "source": [
        "# actor"
      ]
    },
    {
      "cell_type": "code",
      "metadata": {
        "id": "-YJcsqyjU_T-",
        "colab_type": "code",
        "colab": {}
      },
      "source": [
        "class Actor(nn.Module):\n",
        "    def __init__(self, state_size, action_size):\n",
        "        super(Actor, self).__init__()\n",
        "        self.state_size = state_size\n",
        "        self.action_size = action_size\n",
        "        self.linear1 = nn.Linear(self.state_size, 128)\n",
        "        self.linear2 = nn.Linear(128, 256)\n",
        "        self.linear3 = nn.Linear(256, self.action_size)\n",
        "\n",
        "    def forward(self, state):\n",
        "        output = F.relu(self.linear1(state))\n",
        "        output = F.relu(self.linear2(output))\n",
        "        output = self.linear3(output)\n",
        "        return output"
      ],
      "execution_count": 0,
      "outputs": []
    },
    {
      "cell_type": "markdown",
      "metadata": {
        "id": "d8_9TfYIaLJv",
        "colab_type": "text"
      },
      "source": [
        "# critic"
      ]
    },
    {
      "cell_type": "code",
      "metadata": {
        "id": "wm0a5dXBZ_eV",
        "colab_type": "code",
        "colab": {}
      },
      "source": [
        "class Critic(nn.Module):\n",
        "    def __init__(self, state_size, action_size):\n",
        "        super(Critic, self).__init__()\n",
        "        self.state_size = state_size\n",
        "        self.action_size = action_size\n",
        "        self.linear1 = nn.Linear(self.state_size, 128)\n",
        "        self.linear2 = nn.Linear(128, 256)\n",
        "        self.linear3 = nn.Linear(256, 1)\n",
        "\n",
        "    def forward(self, state):\n",
        "        output = F.relu(self.linear1(state))\n",
        "        output = F.relu(self.linear2(output))\n",
        "        value = self.linear3(output)\n",
        "        return value"
      ],
      "execution_count": 0,
      "outputs": []
    },
    {
      "cell_type": "markdown",
      "metadata": {
        "id": "ZwJ7NHljaNRj",
        "colab_type": "text"
      },
      "source": [
        "# get Gt"
      ]
    },
    {
      "cell_type": "code",
      "metadata": {
        "id": "uLVn45pqU_W1",
        "colab_type": "code",
        "colab": {}
      },
      "source": [
        "def compute_returns(next_value, rewards, masks, gamma=0.99):\n",
        "    R = next_value\n",
        "    returns = []\n",
        "    for step in reversed(range(len(rewards))):\n",
        "        R = rewards[step] + gamma * R * masks[step]\n",
        "        returns.insert(0, R)\n",
        "    return returns"
      ],
      "execution_count": 0,
      "outputs": []
    },
    {
      "cell_type": "markdown",
      "metadata": {
        "id": "6kmDMwTTaFpQ",
        "colab_type": "text"
      },
      "source": [
        "# initialize all"
      ]
    },
    {
      "cell_type": "code",
      "metadata": {
        "id": "QG7uN-BxXbAi",
        "colab_type": "code",
        "colab": {}
      },
      "source": [
        "actor = Actor(state_size, action_size).to(device)\n",
        "critic = Critic(state_size, action_size).to(device)\n",
        "optimizerA = optim.Adam(actor.parameters())\n",
        "optimizerC = optim.Adam(critic.parameters())"
      ],
      "execution_count": 0,
      "outputs": []
    },
    {
      "cell_type": "markdown",
      "metadata": {
        "id": "iP5u3Af8aRY4",
        "colab_type": "text"
      },
      "source": [
        "# train loop"
      ]
    },
    {
      "cell_type": "code",
      "metadata": {
        "id": "MDZfmc-0VOxD",
        "colab_type": "code",
        "outputId": "fcec71d5-ef49-4309-c266-76a414be6d5b",
        "colab": {
          "base_uri": "https://localhost:8080/",
          "height": 1000,
          "referenced_widgets": [
            "1d5cde7380294598bd22904ef50d93b9",
            "e98b4c730f8f46259a0a68d7f63b5b4a",
            "a5845307eee8474fb1953976c6ec87ca",
            "87bf6d2b7f744d8c830fa161c2dcb0b9",
            "665ba86d0c1a436d81ec3fa6f4b222b6",
            "a2019b89df49458c8d8bfaba2a2e16d4",
            "c27e96abb8d14ff899ff5b81bbe45a24",
            "7721cd792467490c9e583fad481aa954"
          ]
        }
      },
      "source": [
        "score_record = []\n",
        "\n",
        "for iter in tqdm(range(200)):\n",
        "    \n",
        "    state = env.reset()\n",
        "    log_probs = []\n",
        "    values = []\n",
        "    rewards = []\n",
        "    masks = []\n",
        "    entropy = 0\n",
        "    env.reset()\n",
        "    \n",
        "    for i in count():\n",
        "        \n",
        "        state = torch.FloatTensor(state).to(device)\n",
        "        output, value = actor(state), critic(state)\n",
        "        dist = Categorical(F.softmax(output, dim=-1))\n",
        "\n",
        "        action = dist.sample()\n",
        "        next_state, reward, done, _ = env.step(action.cpu().numpy())\n",
        "\n",
        "        log_prob = dist.log_prob(action).unsqueeze(0)\n",
        "        entropy += dist.entropy().mean()\n",
        "\n",
        "        log_probs.append(log_prob)\n",
        "        values.append(value)\n",
        "        rewards.append(torch.tensor([reward], dtype=torch.float, device=device))\n",
        "        masks.append(torch.tensor([1-done], dtype=torch.float, device=device))\n",
        "\n",
        "        state = next_state\n",
        "\n",
        "        if done:\n",
        "            print('Iteration: {}, Score: {}'.format(iter, i))\n",
        "            score_record.append(i)\n",
        "            break\n",
        "\n",
        "\n",
        "    next_state = torch.FloatTensor(next_state).to(device)\n",
        "    next_value = critic(next_state)\n",
        "    returns = compute_returns(next_value, rewards, masks)\n",
        "\n",
        "    log_probs = torch.cat(log_probs)\n",
        "    returns = torch.cat(returns).detach()\n",
        "    values = torch.cat(values)\n",
        "\n",
        "    advantage = returns - values\n",
        "\n",
        "    actor_loss = -(log_probs * advantage.detach()).mean()\n",
        "    critic_loss = advantage.pow(2).mean()\n",
        "\n",
        "    optimizerA.zero_grad()\n",
        "    optimizerC.zero_grad()\n",
        "    actor_loss.backward()\n",
        "    critic_loss.backward()\n",
        "    optimizerA.step()\n",
        "    optimizerC.step()\n",
        "\n",
        "env.close()"
      ],
      "execution_count": 7,
      "outputs": [
        {
          "output_type": "display_data",
          "data": {
            "application/vnd.jupyter.widget-view+json": {
              "model_id": "1d5cde7380294598bd22904ef50d93b9",
              "version_minor": 0,
              "version_major": 2
            },
            "text/plain": [
              "HBox(children=(IntProgress(value=0, max=200), HTML(value='')))"
            ]
          },
          "metadata": {
            "tags": []
          }
        },
        {
          "output_type": "stream",
          "text": [
            "Iteration: 0, Score: 12\n",
            "Iteration: 1, Score: 12\n",
            "Iteration: 2, Score: 11\n",
            "Iteration: 3, Score: 18\n",
            "Iteration: 4, Score: 29\n",
            "Iteration: 5, Score: 13\n",
            "Iteration: 6, Score: 11\n",
            "Iteration: 7, Score: 28\n",
            "Iteration: 8, Score: 9\n",
            "Iteration: 9, Score: 13\n",
            "Iteration: 10, Score: 16\n",
            "Iteration: 11, Score: 8\n",
            "Iteration: 12, Score: 26\n",
            "Iteration: 13, Score: 11\n",
            "Iteration: 14, Score: 19\n",
            "Iteration: 15, Score: 41\n",
            "Iteration: 16, Score: 12\n",
            "Iteration: 17, Score: 8\n",
            "Iteration: 18, Score: 17\n",
            "Iteration: 19, Score: 13\n",
            "Iteration: 20, Score: 32\n",
            "Iteration: 21, Score: 15\n",
            "Iteration: 22, Score: 19\n",
            "Iteration: 23, Score: 10\n",
            "Iteration: 24, Score: 18\n",
            "Iteration: 25, Score: 34\n",
            "Iteration: 26, Score: 13\n",
            "Iteration: 27, Score: 22\n",
            "Iteration: 28, Score: 31\n",
            "Iteration: 29, Score: 16\n",
            "Iteration: 30, Score: 17\n",
            "Iteration: 31, Score: 15\n",
            "Iteration: 32, Score: 29\n",
            "Iteration: 33, Score: 10\n",
            "Iteration: 34, Score: 15\n",
            "Iteration: 35, Score: 29\n",
            "Iteration: 36, Score: 71\n",
            "Iteration: 37, Score: 13\n",
            "Iteration: 38, Score: 20\n",
            "Iteration: 39, Score: 31\n",
            "Iteration: 40, Score: 31\n",
            "Iteration: 41, Score: 33\n",
            "Iteration: 42, Score: 21\n",
            "Iteration: 43, Score: 11\n",
            "Iteration: 44, Score: 52\n",
            "Iteration: 45, Score: 11\n",
            "Iteration: 46, Score: 45\n",
            "Iteration: 47, Score: 38\n",
            "Iteration: 48, Score: 14\n",
            "Iteration: 49, Score: 40\n",
            "Iteration: 50, Score: 28\n",
            "Iteration: 51, Score: 15\n",
            "Iteration: 52, Score: 30\n",
            "Iteration: 53, Score: 36\n",
            "Iteration: 54, Score: 61\n",
            "Iteration: 55, Score: 36\n",
            "Iteration: 56, Score: 21\n",
            "Iteration: 57, Score: 56\n",
            "Iteration: 58, Score: 50\n",
            "Iteration: 59, Score: 30\n",
            "Iteration: 60, Score: 24\n",
            "Iteration: 61, Score: 55\n",
            "Iteration: 62, Score: 100\n",
            "Iteration: 63, Score: 57\n",
            "Iteration: 64, Score: 83\n",
            "Iteration: 65, Score: 34\n",
            "Iteration: 66, Score: 38\n",
            "Iteration: 67, Score: 110\n",
            "Iteration: 68, Score: 27\n",
            "Iteration: 69, Score: 35\n",
            "Iteration: 70, Score: 58\n",
            "Iteration: 71, Score: 43\n",
            "Iteration: 72, Score: 30\n",
            "Iteration: 73, Score: 38\n",
            "Iteration: 74, Score: 161\n",
            "Iteration: 75, Score: 145\n",
            "Iteration: 76, Score: 113\n",
            "Iteration: 77, Score: 59\n",
            "Iteration: 78, Score: 122\n",
            "Iteration: 79, Score: 179\n",
            "Iteration: 80, Score: 97\n",
            "Iteration: 81, Score: 94\n",
            "Iteration: 82, Score: 148\n",
            "Iteration: 83, Score: 109\n",
            "Iteration: 84, Score: 121\n",
            "Iteration: 85, Score: 142\n",
            "Iteration: 86, Score: 40\n",
            "Iteration: 87, Score: 113\n",
            "Iteration: 88, Score: 158\n",
            "Iteration: 89, Score: 332\n",
            "Iteration: 90, Score: 145\n",
            "Iteration: 91, Score: 124\n",
            "Iteration: 92, Score: 115\n",
            "Iteration: 93, Score: 139\n",
            "Iteration: 94, Score: 297\n",
            "Iteration: 95, Score: 162\n",
            "Iteration: 96, Score: 125\n",
            "Iteration: 97, Score: 106\n",
            "Iteration: 98, Score: 191\n",
            "Iteration: 99, Score: 138\n",
            "Iteration: 100, Score: 120\n",
            "Iteration: 101, Score: 49\n",
            "Iteration: 102, Score: 138\n",
            "Iteration: 103, Score: 138\n",
            "Iteration: 104, Score: 147\n",
            "Iteration: 105, Score: 184\n",
            "Iteration: 106, Score: 155\n",
            "Iteration: 107, Score: 174\n",
            "Iteration: 108, Score: 288\n",
            "Iteration: 109, Score: 144\n",
            "Iteration: 110, Score: 194\n",
            "Iteration: 111, Score: 352\n",
            "Iteration: 112, Score: 288\n",
            "Iteration: 113, Score: 375\n",
            "Iteration: 114, Score: 671\n",
            "Iteration: 115, Score: 185\n",
            "Iteration: 116, Score: 172\n",
            "Iteration: 117, Score: 317\n",
            "Iteration: 118, Score: 141\n",
            "Iteration: 119, Score: 160\n",
            "Iteration: 120, Score: 127\n",
            "Iteration: 121, Score: 202\n",
            "Iteration: 122, Score: 109\n",
            "Iteration: 123, Score: 148\n",
            "Iteration: 124, Score: 108\n",
            "Iteration: 125, Score: 167\n",
            "Iteration: 126, Score: 116\n",
            "Iteration: 127, Score: 139\n",
            "Iteration: 128, Score: 121\n",
            "Iteration: 129, Score: 110\n",
            "Iteration: 130, Score: 37\n",
            "Iteration: 131, Score: 116\n",
            "Iteration: 132, Score: 150\n",
            "Iteration: 133, Score: 158\n",
            "Iteration: 134, Score: 135\n",
            "Iteration: 135, Score: 147\n",
            "Iteration: 136, Score: 150\n",
            "Iteration: 137, Score: 128\n",
            "Iteration: 138, Score: 149\n",
            "Iteration: 139, Score: 139\n",
            "Iteration: 140, Score: 130\n",
            "Iteration: 141, Score: 140\n",
            "Iteration: 142, Score: 182\n",
            "Iteration: 143, Score: 148\n",
            "Iteration: 144, Score: 107\n",
            "Iteration: 145, Score: 153\n",
            "Iteration: 146, Score: 134\n",
            "Iteration: 147, Score: 110\n",
            "Iteration: 148, Score: 109\n",
            "Iteration: 149, Score: 113\n",
            "Iteration: 150, Score: 135\n",
            "Iteration: 151, Score: 131\n",
            "Iteration: 152, Score: 117\n",
            "Iteration: 153, Score: 194\n",
            "Iteration: 154, Score: 133\n",
            "Iteration: 155, Score: 135\n",
            "Iteration: 156, Score: 173\n",
            "Iteration: 157, Score: 196\n",
            "Iteration: 158, Score: 117\n",
            "Iteration: 159, Score: 130\n",
            "Iteration: 160, Score: 131\n",
            "Iteration: 161, Score: 159\n",
            "Iteration: 162, Score: 144\n",
            "Iteration: 163, Score: 161\n",
            "Iteration: 164, Score: 136\n",
            "Iteration: 165, Score: 189\n",
            "Iteration: 166, Score: 123\n",
            "Iteration: 167, Score: 157\n",
            "Iteration: 168, Score: 156\n",
            "Iteration: 169, Score: 125\n",
            "Iteration: 170, Score: 152\n",
            "Iteration: 171, Score: 184\n",
            "Iteration: 172, Score: 140\n",
            "Iteration: 173, Score: 158\n",
            "Iteration: 174, Score: 148\n",
            "Iteration: 175, Score: 120\n",
            "Iteration: 176, Score: 159\n",
            "Iteration: 177, Score: 133\n",
            "Iteration: 178, Score: 164\n",
            "Iteration: 179, Score: 190\n",
            "Iteration: 180, Score: 213\n",
            "Iteration: 181, Score: 222\n",
            "Iteration: 182, Score: 231\n",
            "Iteration: 183, Score: 255\n",
            "Iteration: 184, Score: 244\n",
            "Iteration: 185, Score: 208\n",
            "Iteration: 186, Score: 250\n",
            "Iteration: 187, Score: 283\n",
            "Iteration: 188, Score: 355\n",
            "Iteration: 189, Score: 259\n",
            "Iteration: 190, Score: 332\n",
            "Iteration: 191, Score: 635\n",
            "Iteration: 192, Score: 622\n",
            "Iteration: 193, Score: 292\n",
            "Iteration: 194, Score: 490\n",
            "Iteration: 195, Score: 596\n",
            "Iteration: 196, Score: 986\n",
            "Iteration: 197, Score: 638\n",
            "Iteration: 198, Score: 1023\n",
            "Iteration: 199, Score: 1176\n",
            "\n"
          ],
          "name": "stdout"
        }
      ]
    },
    {
      "cell_type": "markdown",
      "metadata": {
        "id": "6GjIntiHdKxs",
        "colab_type": "text"
      },
      "source": [
        "# plot score"
      ]
    },
    {
      "cell_type": "code",
      "metadata": {
        "id": "1QXWCemMc_ua",
        "colab_type": "code",
        "colab": {
          "base_uri": "https://localhost:8080/",
          "height": 282
        },
        "outputId": "1c8a04ad-c104-49b7-c03a-a13661e07ac9"
      },
      "source": [
        "plt.plot(pd.Series(score_record,name='score_record').rolling(20).mean())"
      ],
      "execution_count": 8,
      "outputs": [
        {
          "output_type": "execute_result",
          "data": {
            "text/plain": [
              "[<matplotlib.lines.Line2D at 0x7f860b63cef0>]"
            ]
          },
          "metadata": {
            "tags": []
          },
          "execution_count": 8
        },
        {
          "output_type": "display_data",
          "data": {
            "image/png": "[encoded data removed]",
            "text/plain": [
              "<Figure size 432x288 with 1 Axes>"
            ]
          },
          "metadata": {
            "tags": []
          }
        }
      ]
    },
    {
      "cell_type": "markdown",
      "metadata": {
        "id": "gjlHdZlHa3_n",
        "colab_type": "text"
      },
      "source": [
        "# test"
      ]
    },
    {
      "cell_type": "code",
      "metadata": {
        "id": "Y_0siF18a4Hj",
        "colab_type": "code",
        "outputId": "3238934d-e74b-48a1-d2f2-7ca9e0cfe043",
        "colab": {
          "base_uri": "https://localhost:8080/",
          "height": 236,
          "referenced_widgets": [
            "9770e333c55641aeab11e5be6740c86e",
            "4f289f0fa07c43ffa80ec47fefe131e3",
            "33aebe332435402f968c29711eb0e997",
            "cf21293ced454f50a133cbde7714bdfd",
            "daca8f7909b4425b874d9bfe9d38c7f3",
            "c3c9b6d504224e98bea1a8436f279509",
            "465abb5bd3ae46959be1325a4b615f94",
            "82661c28464343c9bbc1d1f8ffc81629"
          ]
        }
      },
      "source": [
        "for iter in tqdm(range(10)):\n",
        "    state = env.reset()\n",
        "    R = 0\n",
        "    while True:\n",
        "        state = torch.FloatTensor(state).to(device)\n",
        "        output = actor(state)\n",
        "        dist = F.softmax(output, dim=-1)\n",
        "        action = torch.argmax(dist,dim=-1)\n",
        "        next_state, reward, done, _ = env.step(action.cpu().numpy())\n",
        "        R += reward\n",
        "        if done:\n",
        "            break\n",
        "        state = next_state\n",
        "    print('Iteration: {}, Score: {}'.format(iter,R))"
      ],
      "execution_count": 9,
      "outputs": [
        {
          "output_type": "display_data",
          "data": {
            "application/vnd.jupyter.widget-view+json": {
              "model_id": "9770e333c55641aeab11e5be6740c86e",
              "version_minor": 0,
              "version_major": 2
            },
            "text/plain": [
              "HBox(children=(IntProgress(value=0, max=10), HTML(value='')))"
            ]
          },
          "metadata": {
            "tags": []
          }
        },
        {
          "output_type": "stream",
          "text": [
            "Iteration: 0, Score: 1871.0\n",
            "Iteration: 1, Score: 3906.0\n",
            "Iteration: 2, Score: 9359.0\n",
            "Iteration: 3, Score: 3803.0\n",
            "Iteration: 4, Score: 2446.0\n",
            "Iteration: 5, Score: 1592.0\n",
            "Iteration: 6, Score: 2899.0\n",
            "Iteration: 7, Score: 1319.0\n",
            "Iteration: 8, Score: 3880.0\n",
            "Iteration: 9, Score: 3063.0\n",
            "\n"
          ],
          "name": "stdout"
        }
      ]
    },
    {
      "cell_type": "markdown",
      "metadata": {
        "id": "93PEl5VAW4QW",
        "colab_type": "text"
      },
      "source": [
        "# torchviz"
      ]
    },
    {
      "cell_type": "code",
      "metadata": {
        "id": "DZpJeWP5Vptj",
        "colab_type": "code",
        "outputId": "6047c171-428f-4cc4-917b-429a332911fb",
        "colab": {
          "base_uri": "https://localhost:8080/",
          "height": 1000
        }
      },
      "source": [
        "state = env.reset()\n",
        "state = torch.FloatTensor(state).to(device)\n",
        "torchviz.make_dot(actor(state),params=dict(actor.named_parameters()))"
      ],
      "execution_count": 10,
      "outputs": [
        {
          "output_type": "execute_result",
          "data": {
            "text/plain": [
              "<graphviz.dot.Digraph at 0x7f860b15e8d0>"
            ],
            "image/svg+xml": "<?xml version=\"1.0\" encoding=\"UTF-8\" standalone=\"no\"?>\n<!DOCTYPE svg PUBLIC \"-//W3C//DTD SVG 1.1//EN\"\n \"http://www.w3.org/Graphics/SVG/1.1/DTD/svg11.dtd\">\n<!-- Generated by graphviz version 2.40.1 (20161225.0304)\n -->\n<!-- Title: %3 Pages: 1 -->\n<svg width=\"412pt\" height=\"864pt\"\n viewBox=\"0.00 0.00 412.43 864.00\" xmlns=\"http://www.w3.org/2000/svg\" xmlns:xlink=\"http://www.w3.org/1999/xlink\">\n<g id=\"graph0\" class=\"graph\" transform=\"scale(.9547 .9547) rotate(0) translate(4 901)\">\n<title>%3</title>\n<polygon fill=\"#ffffff\" stroke=\"transparent\" points=\"-4,4 -4,-901 428,-901 428,4 -4,4\"/>\n<!-- 140213688330392 -->\n<g id=\"node1\" class=\"node\">\n<title>140213688330392</title>\n<polygon fill=\"#caff70\" stroke=\"#000000\" points=\"379.5,-21 287.5,-21 287.5,0 379.5,0 379.5,-21\"/>\n<text text-anchor=\"middle\" x=\"333.5\" y=\"-7.4\" font-family=\"Times,serif\" font-size=\"12.00\" fill=\"#000000\">AddBackward0</text>\n</g>\n<!-- 140213688330504 -->\n<g id=\"node2\" class=\"node\">\n<title>140213688330504</title>\n<polygon fill=\"#d3d3d3\" stroke=\"#000000\" points=\"335,-84.5 224,-84.5 224,-63.5 335,-63.5 335,-84.5\"/>\n<text text-anchor=\"middle\" x=\"279.5\" y=\"-70.9\" font-family=\"Times,serif\" font-size=\"12.00\" fill=\"#000000\">SqueezeBackward3</text>\n</g>\n<!-- 140213688330504&#45;&gt;140213688330392 -->\n<g id=\"edge1\" class=\"edge\">\n<title>140213688330504&#45;&gt;140213688330392</title>\n<path fill=\"none\" stroke=\"#000000\" d=\"M288.6604,-63.2281C296.6212,-53.8667 308.3273,-40.1012 317.7825,-28.9826\"/>\n<polygon fill=\"#000000\" stroke=\"#000000\" points=\"320.6629,-30.9982 324.4749,-21.1128 315.3304,-26.4634 320.6629,-30.9982\"/>\n</g>\n<!-- 140213688330672 -->\n<g id=\"node3\" class=\"node\">\n<title>140213688330672</title>\n<polygon fill=\"#d3d3d3\" stroke=\"#000000\" points=\"322,-148 237,-148 237,-127 322,-127 322,-148\"/>\n<text text-anchor=\"middle\" x=\"279.5\" y=\"-134.4\" font-family=\"Times,serif\" font-size=\"12.00\" fill=\"#000000\">MmBackward</text>\n</g>\n<!-- 140213688330672&#45;&gt;140213688330504 -->\n<g id=\"edge2\" class=\"edge\">\n<title>140213688330672&#45;&gt;140213688330504</title>\n<path fill=\"none\" stroke=\"#000000\" d=\"M279.5,-126.7281C279.5,-118.0091 279.5,-105.4699 279.5,-94.8068\"/>\n<polygon fill=\"#000000\" stroke=\"#000000\" points=\"283.0001,-94.6128 279.5,-84.6128 276.0001,-94.6129 283.0001,-94.6128\"/>\n</g>\n<!-- 140213688330784 -->\n<g id=\"node4\" class=\"node\">\n<title>140213688330784</title>\n<polygon fill=\"#d3d3d3\" stroke=\"#000000\" points=\"283.5,-205 159.5,-205 159.5,-184 283.5,-184 283.5,-205\"/>\n<text text-anchor=\"middle\" x=\"221.5\" y=\"-191.4\" font-family=\"Times,serif\" font-size=\"12.00\" fill=\"#000000\">UnsqueezeBackward0</text>\n</g>\n<!-- 140213688330784&#45;&gt;140213688330672 -->\n<g id=\"edge3\" class=\"edge\">\n<title>140213688330784&#45;&gt;140213688330672</title>\n<path fill=\"none\" stroke=\"#000000\" d=\"M232.4094,-183.7787C240.5915,-175.7376 251.9727,-164.5527 261.4965,-155.1931\"/>\n<polygon fill=\"#000000\" stroke=\"#000000\" points=\"263.9605,-157.6788 268.6396,-148.1732 259.054,-152.6862 263.9605,-157.6788\"/>\n</g>\n<!-- 140213688330952 -->\n<g id=\"node5\" class=\"node\">\n<title>140213688330952</title>\n<polygon fill=\"#d3d3d3\" stroke=\"#000000\" points=\"268.5,-268.5 174.5,-268.5 174.5,-247.5 268.5,-247.5 268.5,-268.5\"/>\n<text text-anchor=\"middle\" x=\"221.5\" y=\"-254.9\" font-family=\"Times,serif\" font-size=\"12.00\" fill=\"#000000\">ReluBackward0</text>\n</g>\n<!-- 140213688330952&#45;&gt;140213688330784 -->\n<g id=\"edge4\" class=\"edge\">\n<title>140213688330952&#45;&gt;140213688330784</title>\n<path fill=\"none\" stroke=\"#000000\" d=\"M221.5,-247.2281C221.5,-238.5091 221.5,-225.9699 221.5,-215.3068\"/>\n<polygon fill=\"#000000\" stroke=\"#000000\" points=\"225.0001,-215.1128 221.5,-205.1128 218.0001,-215.1129 225.0001,-215.1128\"/>\n</g>\n<!-- 140213688331064 -->\n<g id=\"node6\" class=\"node\">\n<title>140213688331064</title>\n<polygon fill=\"#d3d3d3\" stroke=\"#000000\" points=\"267.5,-332 175.5,-332 175.5,-311 267.5,-311 267.5,-332\"/>\n<text text-anchor=\"middle\" x=\"221.5\" y=\"-318.4\" font-family=\"Times,serif\" font-size=\"12.00\" fill=\"#000000\">AddBackward0</text>\n</g>\n<!-- 140213688331064&#45;&gt;140213688330952 -->\n<g id=\"edge5\" class=\"edge\">\n<title>140213688331064&#45;&gt;140213688330952</title>\n<path fill=\"none\" stroke=\"#000000\" d=\"M221.5,-310.7281C221.5,-302.0091 221.5,-289.4699 221.5,-278.8068\"/>\n<polygon fill=\"#000000\" stroke=\"#000000\" points=\"225.0001,-278.6128 221.5,-268.6128 218.0001,-278.6129 225.0001,-278.6128\"/>\n</g>\n<!-- 140213688331176 -->\n<g id=\"node7\" class=\"node\">\n<title>140213688331176</title>\n<polygon fill=\"#d3d3d3\" stroke=\"#000000\" points=\"223,-395.5 112,-395.5 112,-374.5 223,-374.5 223,-395.5\"/>\n<text text-anchor=\"middle\" x=\"167.5\" y=\"-381.9\" font-family=\"Times,serif\" font-size=\"12.00\" fill=\"#000000\">SqueezeBackward3</text>\n</g>\n<!-- 140213688331176&#45;&gt;140213688331064 -->\n<g id=\"edge6\" class=\"edge\">\n<title>140213688331176&#45;&gt;140213688331064</title>\n<path fill=\"none\" stroke=\"#000000\" d=\"M176.6604,-374.2281C184.6212,-364.8667 196.3273,-351.1012 205.7825,-339.9826\"/>\n<polygon fill=\"#000000\" stroke=\"#000000\" points=\"208.6629,-341.9982 212.4749,-332.1128 203.3304,-337.4634 208.6629,-341.9982\"/>\n</g>\n<!-- 140213688331344 -->\n<g id=\"node8\" class=\"node\">\n<title>140213688331344</title>\n<polygon fill=\"#d3d3d3\" stroke=\"#000000\" points=\"210,-459 125,-459 125,-438 210,-438 210,-459\"/>\n<text text-anchor=\"middle\" x=\"167.5\" y=\"-445.4\" font-family=\"Times,serif\" font-size=\"12.00\" fill=\"#000000\">MmBackward</text>\n</g>\n<!-- 140213688331344&#45;&gt;140213688331176 -->\n<g id=\"edge7\" class=\"edge\">\n<title>140213688331344&#45;&gt;140213688331176</title>\n<path fill=\"none\" stroke=\"#000000\" d=\"M167.5,-437.7281C167.5,-429.0091 167.5,-416.4699 167.5,-405.8068\"/>\n<polygon fill=\"#000000\" stroke=\"#000000\" points=\"171.0001,-405.6128 167.5,-395.6128 164.0001,-405.6129 171.0001,-405.6128\"/>\n</g>\n<!-- 140213688331456 -->\n<g id=\"node9\" class=\"node\">\n<title>140213688331456</title>\n<polygon fill=\"#d3d3d3\" stroke=\"#000000\" points=\"171.5,-516 47.5,-516 47.5,-495 171.5,-495 171.5,-516\"/>\n<text text-anchor=\"middle\" x=\"109.5\" y=\"-502.4\" font-family=\"Times,serif\" font-size=\"12.00\" fill=\"#000000\">UnsqueezeBackward0</text>\n</g>\n<!-- 140213688331456&#45;&gt;140213688331344 -->\n<g id=\"edge8\" class=\"edge\">\n<title>140213688331456&#45;&gt;140213688331344</title>\n<path fill=\"none\" stroke=\"#000000\" d=\"M120.4094,-494.7787C128.5915,-486.7376 139.9727,-475.5527 149.4965,-466.1931\"/>\n<polygon fill=\"#000000\" stroke=\"#000000\" points=\"151.9605,-468.6788 156.6396,-459.1732 147.054,-463.6862 151.9605,-468.6788\"/>\n</g>\n<!-- 140213688331624 -->\n<g id=\"node10\" class=\"node\">\n<title>140213688331624</title>\n<polygon fill=\"#d3d3d3\" stroke=\"#000000\" points=\"156.5,-579.5 62.5,-579.5 62.5,-558.5 156.5,-558.5 156.5,-579.5\"/>\n<text text-anchor=\"middle\" x=\"109.5\" y=\"-565.9\" font-family=\"Times,serif\" font-size=\"12.00\" fill=\"#000000\">ReluBackward0</text>\n</g>\n<!-- 140213688331624&#45;&gt;140213688331456 -->\n<g id=\"edge9\" class=\"edge\">\n<title>140213688331624&#45;&gt;140213688331456</title>\n<path fill=\"none\" stroke=\"#000000\" d=\"M109.5,-558.2281C109.5,-549.5091 109.5,-536.9699 109.5,-526.3068\"/>\n<polygon fill=\"#000000\" stroke=\"#000000\" points=\"113.0001,-526.1128 109.5,-516.1128 106.0001,-526.1129 113.0001,-526.1128\"/>\n</g>\n<!-- 140215168411184 -->\n<g id=\"node11\" class=\"node\">\n<title>140215168411184</title>\n<polygon fill=\"#d3d3d3\" stroke=\"#000000\" points=\"155.5,-643 63.5,-643 63.5,-622 155.5,-622 155.5,-643\"/>\n<text text-anchor=\"middle\" x=\"109.5\" y=\"-629.4\" font-family=\"Times,serif\" font-size=\"12.00\" fill=\"#000000\">AddBackward0</text>\n</g>\n<!-- 140215168411184&#45;&gt;140213688331624 -->\n<g id=\"edge10\" class=\"edge\">\n<title>140215168411184&#45;&gt;140213688331624</title>\n<path fill=\"none\" stroke=\"#000000\" d=\"M109.5,-621.7281C109.5,-613.0091 109.5,-600.4699 109.5,-589.8068\"/>\n<polygon fill=\"#000000\" stroke=\"#000000\" points=\"113.0001,-589.6128 109.5,-579.6128 106.0001,-589.6129 113.0001,-589.6128\"/>\n</g>\n<!-- 140213693106496 -->\n<g id=\"node12\" class=\"node\">\n<title>140213693106496</title>\n<polygon fill=\"#d3d3d3\" stroke=\"#000000\" points=\"111,-706.5 0,-706.5 0,-685.5 111,-685.5 111,-706.5\"/>\n<text text-anchor=\"middle\" x=\"55.5\" y=\"-692.9\" font-family=\"Times,serif\" font-size=\"12.00\" fill=\"#000000\">SqueezeBackward3</text>\n</g>\n<!-- 140213693106496&#45;&gt;140215168411184 -->\n<g id=\"edge11\" class=\"edge\">\n<title>140213693106496&#45;&gt;140215168411184</title>\n<path fill=\"none\" stroke=\"#000000\" d=\"M64.6604,-685.2281C72.6212,-675.8667 84.3273,-662.1012 93.7825,-650.9826\"/>\n<polygon fill=\"#000000\" stroke=\"#000000\" points=\"96.6629,-652.9982 100.4749,-643.1128 91.3304,-648.4634 96.6629,-652.9982\"/>\n</g>\n<!-- 140213692957808 -->\n<g id=\"node13\" class=\"node\">\n<title>140213692957808</title>\n<polygon fill=\"#d3d3d3\" stroke=\"#000000\" points=\"98,-770 13,-770 13,-749 98,-749 98,-770\"/>\n<text text-anchor=\"middle\" x=\"55.5\" y=\"-756.4\" font-family=\"Times,serif\" font-size=\"12.00\" fill=\"#000000\">MmBackward</text>\n</g>\n<!-- 140213692957808&#45;&gt;140213693106496 -->\n<g id=\"edge12\" class=\"edge\">\n<title>140213692957808&#45;&gt;140213693106496</title>\n<path fill=\"none\" stroke=\"#000000\" d=\"M55.5,-748.7281C55.5,-740.0091 55.5,-727.4699 55.5,-716.8068\"/>\n<polygon fill=\"#000000\" stroke=\"#000000\" points=\"59.0001,-716.6128 55.5,-706.6128 52.0001,-716.6129 59.0001,-716.6128\"/>\n</g>\n<!-- 140213692956744 -->\n<g id=\"node14\" class=\"node\">\n<title>140213692956744</title>\n<polygon fill=\"#d3d3d3\" stroke=\"#000000\" points=\"92,-827 19,-827 19,-806 92,-806 92,-827\"/>\n<text text-anchor=\"middle\" x=\"55.5\" y=\"-813.4\" font-family=\"Times,serif\" font-size=\"12.00\" fill=\"#000000\">TBackward</text>\n</g>\n<!-- 140213692956744&#45;&gt;140213692957808 -->\n<g id=\"edge13\" class=\"edge\">\n<title>140213692956744&#45;&gt;140213692957808</title>\n<path fill=\"none\" stroke=\"#000000\" d=\"M55.5,-805.7787C55.5,-798.6134 55.5,-788.9517 55.5,-780.3097\"/>\n<polygon fill=\"#000000\" stroke=\"#000000\" points=\"59.0001,-780.1732 55.5,-770.1732 52.0001,-780.1732 59.0001,-780.1732\"/>\n</g>\n<!-- 140213692957864 -->\n<g id=\"node15\" class=\"node\">\n<title>140213692957864</title>\n<polygon fill=\"#add8e6\" stroke=\"#000000\" points=\"97.5,-897 13.5,-897 13.5,-863 97.5,-863 97.5,-897\"/>\n<text text-anchor=\"middle\" x=\"55.5\" y=\"-883.4\" font-family=\"Times,serif\" font-size=\"12.00\" fill=\"#000000\">linear1.weight</text>\n<text text-anchor=\"middle\" x=\"55.5\" y=\"-870.4\" font-family=\"Times,serif\" font-size=\"12.00\" fill=\"#000000\"> (128, 4)</text>\n</g>\n<!-- 140213692957864&#45;&gt;140213692956744 -->\n<g id=\"edge14\" class=\"edge\">\n<title>140213692957864&#45;&gt;140213692956744</title>\n<path fill=\"none\" stroke=\"#000000\" d=\"M55.5,-862.9832C55.5,-855.1157 55.5,-845.6973 55.5,-837.4019\"/>\n<polygon fill=\"#000000\" stroke=\"#000000\" points=\"59.0001,-837.3686 55.5,-827.3687 52.0001,-837.3687 59.0001,-837.3686\"/>\n</g>\n<!-- 140213719373024 -->\n<g id=\"node16\" class=\"node\">\n<title>140213719373024</title>\n<polygon fill=\"#add8e6\" stroke=\"#000000\" points=\"200,-713 129,-713 129,-679 200,-679 200,-713\"/>\n<text text-anchor=\"middle\" x=\"164.5\" y=\"-699.4\" font-family=\"Times,serif\" font-size=\"12.00\" fill=\"#000000\">linear1.bias</text>\n<text text-anchor=\"middle\" x=\"164.5\" y=\"-686.4\" font-family=\"Times,serif\" font-size=\"12.00\" fill=\"#000000\"> (128)</text>\n</g>\n<!-- 140213719373024&#45;&gt;140215168411184 -->\n<g id=\"edge15\" class=\"edge\">\n<title>140213719373024&#45;&gt;140215168411184</title>\n<path fill=\"none\" stroke=\"#000000\" d=\"M149.761,-678.9832C142.3341,-670.4085 133.3116,-659.9916 125.6918,-651.1942\"/>\n<polygon fill=\"#000000\" stroke=\"#000000\" points=\"128.1065,-648.6361 118.9138,-643.3687 122.8153,-653.219 128.1065,-648.6361\"/>\n</g>\n<!-- 140213688331512 -->\n<g id=\"node17\" class=\"node\">\n<title>140213688331512</title>\n<polygon fill=\"#d3d3d3\" stroke=\"#000000\" points=\"263,-516 190,-516 190,-495 263,-495 263,-516\"/>\n<text text-anchor=\"middle\" x=\"226.5\" y=\"-502.4\" font-family=\"Times,serif\" font-size=\"12.00\" fill=\"#000000\">TBackward</text>\n</g>\n<!-- 140213688331512&#45;&gt;140213688331344 -->\n<g id=\"edge16\" class=\"edge\">\n<title>140213688331512&#45;&gt;140213688331344</title>\n<path fill=\"none\" stroke=\"#000000\" d=\"M215.4026,-494.7787C207.0793,-486.7376 195.5019,-475.5527 185.8139,-466.1931\"/>\n<polygon fill=\"#000000\" stroke=\"#000000\" points=\"188.1715,-463.6042 178.5477,-459.1732 183.3078,-468.6385 188.1715,-463.6042\"/>\n</g>\n<!-- 140215405159088 -->\n<g id=\"node18\" class=\"node\">\n<title>140215405159088</title>\n<polygon fill=\"#add8e6\" stroke=\"#000000\" points=\"268.5,-586 184.5,-586 184.5,-552 268.5,-552 268.5,-586\"/>\n<text text-anchor=\"middle\" x=\"226.5\" y=\"-572.4\" font-family=\"Times,serif\" font-size=\"12.00\" fill=\"#000000\">linear2.weight</text>\n<text text-anchor=\"middle\" x=\"226.5\" y=\"-559.4\" font-family=\"Times,serif\" font-size=\"12.00\" fill=\"#000000\"> (256, 128)</text>\n</g>\n<!-- 140215405159088&#45;&gt;140213688331512 -->\n<g id=\"edge17\" class=\"edge\">\n<title>140215405159088&#45;&gt;140213688331512</title>\n<path fill=\"none\" stroke=\"#000000\" d=\"M226.5,-551.9832C226.5,-544.1157 226.5,-534.6973 226.5,-526.4019\"/>\n<polygon fill=\"#000000\" stroke=\"#000000\" points=\"230.0001,-526.3686 226.5,-516.3687 223.0001,-526.3687 230.0001,-526.3686\"/>\n</g>\n<!-- 140213688331232 -->\n<g id=\"node19\" class=\"node\">\n<title>140213688331232</title>\n<polygon fill=\"#add8e6\" stroke=\"#000000\" points=\"312,-402 241,-402 241,-368 312,-368 312,-402\"/>\n<text text-anchor=\"middle\" x=\"276.5\" y=\"-388.4\" font-family=\"Times,serif\" font-size=\"12.00\" fill=\"#000000\">linear2.bias</text>\n<text text-anchor=\"middle\" x=\"276.5\" y=\"-375.4\" font-family=\"Times,serif\" font-size=\"12.00\" fill=\"#000000\"> (256)</text>\n</g>\n<!-- 140213688331232&#45;&gt;140213688331064 -->\n<g id=\"edge18\" class=\"edge\">\n<title>140213688331232&#45;&gt;140213688331064</title>\n<path fill=\"none\" stroke=\"#000000\" d=\"M261.761,-367.9832C254.3341,-359.4085 245.3116,-348.9916 237.6918,-340.1942\"/>\n<polygon fill=\"#000000\" stroke=\"#000000\" points=\"240.1065,-337.6361 230.9138,-332.3687 234.8153,-342.219 240.1065,-337.6361\"/>\n</g>\n<!-- 140213688330840 -->\n<g id=\"node20\" class=\"node\">\n<title>140213688330840</title>\n<polygon fill=\"#d3d3d3\" stroke=\"#000000\" points=\"375,-205 302,-205 302,-184 375,-184 375,-205\"/>\n<text text-anchor=\"middle\" x=\"338.5\" y=\"-191.4\" font-family=\"Times,serif\" font-size=\"12.00\" fill=\"#000000\">TBackward</text>\n</g>\n<!-- 140213688330840&#45;&gt;140213688330672 -->\n<g id=\"edge19\" class=\"edge\">\n<title>140213688330840&#45;&gt;140213688330672</title>\n<path fill=\"none\" stroke=\"#000000\" d=\"M327.4026,-183.7787C319.0793,-175.7376 307.5019,-164.5527 297.8139,-155.1931\"/>\n<polygon fill=\"#000000\" stroke=\"#000000\" points=\"300.1715,-152.6042 290.5477,-148.1732 295.3078,-157.6385 300.1715,-152.6042\"/>\n</g>\n<!-- 140215708790624 -->\n<g id=\"node21\" class=\"node\">\n<title>140215708790624</title>\n<polygon fill=\"#add8e6\" stroke=\"#000000\" points=\"380.5,-275 296.5,-275 296.5,-241 380.5,-241 380.5,-275\"/>\n<text text-anchor=\"middle\" x=\"338.5\" y=\"-261.4\" font-family=\"Times,serif\" font-size=\"12.00\" fill=\"#000000\">linear3.weight</text>\n<text text-anchor=\"middle\" x=\"338.5\" y=\"-248.4\" font-family=\"Times,serif\" font-size=\"12.00\" fill=\"#000000\"> (2, 256)</text>\n</g>\n<!-- 140215708790624&#45;&gt;140213688330840 -->\n<g id=\"edge20\" class=\"edge\">\n<title>140215708790624&#45;&gt;140213688330840</title>\n<path fill=\"none\" stroke=\"#000000\" d=\"M338.5,-240.9832C338.5,-233.1157 338.5,-223.6973 338.5,-215.4019\"/>\n<polygon fill=\"#000000\" stroke=\"#000000\" points=\"342.0001,-215.3686 338.5,-205.3687 335.0001,-215.3687 342.0001,-215.3686\"/>\n</g>\n<!-- 140213688330560 -->\n<g id=\"node22\" class=\"node\">\n<title>140213688330560</title>\n<polygon fill=\"#add8e6\" stroke=\"#000000\" points=\"424,-91 353,-91 353,-57 424,-57 424,-91\"/>\n<text text-anchor=\"middle\" x=\"388.5\" y=\"-77.4\" font-family=\"Times,serif\" font-size=\"12.00\" fill=\"#000000\">linear3.bias</text>\n<text text-anchor=\"middle\" x=\"388.5\" y=\"-64.4\" font-family=\"Times,serif\" font-size=\"12.00\" fill=\"#000000\"> (2)</text>\n</g>\n<!-- 140213688330560&#45;&gt;140213688330392 -->\n<g id=\"edge21\" class=\"edge\">\n<title>140213688330560&#45;&gt;140213688330392</title>\n<path fill=\"none\" stroke=\"#000000\" d=\"M373.761,-56.9832C366.3341,-48.4085 357.3116,-37.9916 349.6918,-29.1942\"/>\n<polygon fill=\"#000000\" stroke=\"#000000\" points=\"352.1065,-26.6361 342.9138,-21.3687 346.8153,-31.219 352.1065,-26.6361\"/>\n</g>\n</g>\n</svg>\n"
          },
          "metadata": {
            "tags": []
          },
          "execution_count": 10
        }
      ]
    },
    {
      "cell_type": "code",
      "metadata": {
        "id": "EgeSSQCJZOJN",
        "colab_type": "code",
        "outputId": "cae9147a-cd49-434a-91b1-b96d8d5e5c76",
        "colab": {
          "base_uri": "https://localhost:8080/",
          "height": 1000
        }
      },
      "source": [
        "torchviz.make_dot(critic(state),params=dict(critic.named_parameters()))"
      ],
      "execution_count": 11,
      "outputs": [
        {
          "output_type": "execute_result",
          "data": {
            "text/plain": [
              "<graphviz.dot.Digraph at 0x7f860b147ba8>"
            ],
            "image/svg+xml": "<?xml version=\"1.0\" encoding=\"UTF-8\" standalone=\"no\"?>\n<!DOCTYPE svg PUBLIC \"-//W3C//DTD SVG 1.1//EN\"\n \"http://www.w3.org/Graphics/SVG/1.1/DTD/svg11.dtd\">\n<!-- Generated by graphviz version 2.40.1 (20161225.0304)\n -->\n<!-- Title: %3 Pages: 1 -->\n<svg width=\"412pt\" height=\"864pt\"\n viewBox=\"0.00 0.00 412.43 864.00\" xmlns=\"http://www.w3.org/2000/svg\" xmlns:xlink=\"http://www.w3.org/1999/xlink\">\n<g id=\"graph0\" class=\"graph\" transform=\"scale(.9547 .9547) rotate(0) translate(4 901)\">\n<title>%3</title>\n<polygon fill=\"#ffffff\" stroke=\"transparent\" points=\"-4,4 -4,-901 428,-901 428,4 -4,4\"/>\n<!-- 140213688236464 -->\n<g id=\"node1\" class=\"node\">\n<title>140213688236464</title>\n<polygon fill=\"#caff70\" stroke=\"#000000\" points=\"379.5,-21 287.5,-21 287.5,0 379.5,0 379.5,-21\"/>\n<text text-anchor=\"middle\" x=\"333.5\" y=\"-7.4\" font-family=\"Times,serif\" font-size=\"12.00\" fill=\"#000000\">AddBackward0</text>\n</g>\n<!-- 140213688237024 -->\n<g id=\"node2\" class=\"node\">\n<title>140213688237024</title>\n<polygon fill=\"#d3d3d3\" stroke=\"#000000\" points=\"335,-84.5 224,-84.5 224,-63.5 335,-63.5 335,-84.5\"/>\n<text text-anchor=\"middle\" x=\"279.5\" y=\"-70.9\" font-family=\"Times,serif\" font-size=\"12.00\" fill=\"#000000\">SqueezeBackward3</text>\n</g>\n<!-- 140213688237024&#45;&gt;140213688236464 -->\n<g id=\"edge1\" class=\"edge\">\n<title>140213688237024&#45;&gt;140213688236464</title>\n<path fill=\"none\" stroke=\"#000000\" d=\"M288.6604,-63.2281C296.6212,-53.8667 308.3273,-40.1012 317.7825,-28.9826\"/>\n<polygon fill=\"#000000\" stroke=\"#000000\" points=\"320.6629,-30.9982 324.4749,-21.1128 315.3304,-26.4634 320.6629,-30.9982\"/>\n</g>\n<!-- 140213688236856 -->\n<g id=\"node3\" class=\"node\">\n<title>140213688236856</title>\n<polygon fill=\"#d3d3d3\" stroke=\"#000000\" points=\"322,-148 237,-148 237,-127 322,-127 322,-148\"/>\n<text text-anchor=\"middle\" x=\"279.5\" y=\"-134.4\" font-family=\"Times,serif\" font-size=\"12.00\" fill=\"#000000\">MmBackward</text>\n</g>\n<!-- 140213688236856&#45;&gt;140213688237024 -->\n<g id=\"edge2\" class=\"edge\">\n<title>140213688236856&#45;&gt;140213688237024</title>\n<path fill=\"none\" stroke=\"#000000\" d=\"M279.5,-126.7281C279.5,-118.0091 279.5,-105.4699 279.5,-94.8068\"/>\n<polygon fill=\"#000000\" stroke=\"#000000\" points=\"283.0001,-94.6128 279.5,-84.6128 276.0001,-94.6129 283.0001,-94.6128\"/>\n</g>\n<!-- 140213688237136 -->\n<g id=\"node4\" class=\"node\">\n<title>140213688237136</title>\n<polygon fill=\"#d3d3d3\" stroke=\"#000000\" points=\"283.5,-205 159.5,-205 159.5,-184 283.5,-184 283.5,-205\"/>\n<text text-anchor=\"middle\" x=\"221.5\" y=\"-191.4\" font-family=\"Times,serif\" font-size=\"12.00\" fill=\"#000000\">UnsqueezeBackward0</text>\n</g>\n<!-- 140213688237136&#45;&gt;140213688236856 -->\n<g id=\"edge3\" class=\"edge\">\n<title>140213688237136&#45;&gt;140213688236856</title>\n<path fill=\"none\" stroke=\"#000000\" d=\"M232.4094,-183.7787C240.5915,-175.7376 251.9727,-164.5527 261.4965,-155.1931\"/>\n<polygon fill=\"#000000\" stroke=\"#000000\" points=\"263.9605,-157.6788 268.6396,-148.1732 259.054,-152.6862 263.9605,-157.6788\"/>\n</g>\n<!-- 140213688234112 -->\n<g id=\"node5\" class=\"node\">\n<title>140213688234112</title>\n<polygon fill=\"#d3d3d3\" stroke=\"#000000\" points=\"268.5,-268.5 174.5,-268.5 174.5,-247.5 268.5,-247.5 268.5,-268.5\"/>\n<text text-anchor=\"middle\" x=\"221.5\" y=\"-254.9\" font-family=\"Times,serif\" font-size=\"12.00\" fill=\"#000000\">ReluBackward0</text>\n</g>\n<!-- 140213688234112&#45;&gt;140213688237136 -->\n<g id=\"edge4\" class=\"edge\">\n<title>140213688234112&#45;&gt;140213688237136</title>\n<path fill=\"none\" stroke=\"#000000\" d=\"M221.5,-247.2281C221.5,-238.5091 221.5,-225.9699 221.5,-215.3068\"/>\n<polygon fill=\"#000000\" stroke=\"#000000\" points=\"225.0001,-215.1128 221.5,-205.1128 218.0001,-215.1129 225.0001,-215.1128\"/>\n</g>\n<!-- 140213688234224 -->\n<g id=\"node6\" class=\"node\">\n<title>140213688234224</title>\n<polygon fill=\"#d3d3d3\" stroke=\"#000000\" points=\"267.5,-332 175.5,-332 175.5,-311 267.5,-311 267.5,-332\"/>\n<text text-anchor=\"middle\" x=\"221.5\" y=\"-318.4\" font-family=\"Times,serif\" font-size=\"12.00\" fill=\"#000000\">AddBackward0</text>\n</g>\n<!-- 140213688234224&#45;&gt;140213688234112 -->\n<g id=\"edge5\" class=\"edge\">\n<title>140213688234224&#45;&gt;140213688234112</title>\n<path fill=\"none\" stroke=\"#000000\" d=\"M221.5,-310.7281C221.5,-302.0091 221.5,-289.4699 221.5,-278.8068\"/>\n<polygon fill=\"#000000\" stroke=\"#000000\" points=\"225.0001,-278.6128 221.5,-268.6128 218.0001,-278.6129 225.0001,-278.6128\"/>\n</g>\n<!-- 140213688234056 -->\n<g id=\"node7\" class=\"node\">\n<title>140213688234056</title>\n<polygon fill=\"#d3d3d3\" stroke=\"#000000\" points=\"223,-395.5 112,-395.5 112,-374.5 223,-374.5 223,-395.5\"/>\n<text text-anchor=\"middle\" x=\"167.5\" y=\"-381.9\" font-family=\"Times,serif\" font-size=\"12.00\" fill=\"#000000\">SqueezeBackward3</text>\n</g>\n<!-- 140213688234056&#45;&gt;140213688234224 -->\n<g id=\"edge6\" class=\"edge\">\n<title>140213688234056&#45;&gt;140213688234224</title>\n<path fill=\"none\" stroke=\"#000000\" d=\"M176.6604,-374.2281C184.6212,-364.8667 196.3273,-351.1012 205.7825,-339.9826\"/>\n<polygon fill=\"#000000\" stroke=\"#000000\" points=\"208.6629,-341.9982 212.4749,-332.1128 203.3304,-337.4634 208.6629,-341.9982\"/>\n</g>\n<!-- 140213688294312 -->\n<g id=\"node8\" class=\"node\">\n<title>140213688294312</title>\n<polygon fill=\"#d3d3d3\" stroke=\"#000000\" points=\"210,-459 125,-459 125,-438 210,-438 210,-459\"/>\n<text text-anchor=\"middle\" x=\"167.5\" y=\"-445.4\" font-family=\"Times,serif\" font-size=\"12.00\" fill=\"#000000\">MmBackward</text>\n</g>\n<!-- 140213688294312&#45;&gt;140213688234056 -->\n<g id=\"edge7\" class=\"edge\">\n<title>140213688294312&#45;&gt;140213688234056</title>\n<path fill=\"none\" stroke=\"#000000\" d=\"M167.5,-437.7281C167.5,-429.0091 167.5,-416.4699 167.5,-405.8068\"/>\n<polygon fill=\"#000000\" stroke=\"#000000\" points=\"171.0001,-405.6128 167.5,-395.6128 164.0001,-405.6129 171.0001,-405.6128\"/>\n</g>\n<!-- 140213688294704 -->\n<g id=\"node9\" class=\"node\">\n<title>140213688294704</title>\n<polygon fill=\"#d3d3d3\" stroke=\"#000000\" points=\"171.5,-516 47.5,-516 47.5,-495 171.5,-495 171.5,-516\"/>\n<text text-anchor=\"middle\" x=\"109.5\" y=\"-502.4\" font-family=\"Times,serif\" font-size=\"12.00\" fill=\"#000000\">UnsqueezeBackward0</text>\n</g>\n<!-- 140213688294704&#45;&gt;140213688294312 -->\n<g id=\"edge8\" class=\"edge\">\n<title>140213688294704&#45;&gt;140213688294312</title>\n<path fill=\"none\" stroke=\"#000000\" d=\"M120.4094,-494.7787C128.5915,-486.7376 139.9727,-475.5527 149.4965,-466.1931\"/>\n<polygon fill=\"#000000\" stroke=\"#000000\" points=\"151.9605,-468.6788 156.6396,-459.1732 147.054,-463.6862 151.9605,-468.6788\"/>\n</g>\n<!-- 140213688292128 -->\n<g id=\"node10\" class=\"node\">\n<title>140213688292128</title>\n<polygon fill=\"#d3d3d3\" stroke=\"#000000\" points=\"156.5,-579.5 62.5,-579.5 62.5,-558.5 156.5,-558.5 156.5,-579.5\"/>\n<text text-anchor=\"middle\" x=\"109.5\" y=\"-565.9\" font-family=\"Times,serif\" font-size=\"12.00\" fill=\"#000000\">ReluBackward0</text>\n</g>\n<!-- 140213688292128&#45;&gt;140213688294704 -->\n<g id=\"edge9\" class=\"edge\">\n<title>140213688292128&#45;&gt;140213688294704</title>\n<path fill=\"none\" stroke=\"#000000\" d=\"M109.5,-558.2281C109.5,-549.5091 109.5,-536.9699 109.5,-526.3068\"/>\n<polygon fill=\"#000000\" stroke=\"#000000\" points=\"113.0001,-526.1128 109.5,-516.1128 106.0001,-526.1129 113.0001,-526.1128\"/>\n</g>\n<!-- 140213688294592 -->\n<g id=\"node11\" class=\"node\">\n<title>140213688294592</title>\n<polygon fill=\"#d3d3d3\" stroke=\"#000000\" points=\"155.5,-643 63.5,-643 63.5,-622 155.5,-622 155.5,-643\"/>\n<text text-anchor=\"middle\" x=\"109.5\" y=\"-629.4\" font-family=\"Times,serif\" font-size=\"12.00\" fill=\"#000000\">AddBackward0</text>\n</g>\n<!-- 140213688294592&#45;&gt;140213688292128 -->\n<g id=\"edge10\" class=\"edge\">\n<title>140213688294592&#45;&gt;140213688292128</title>\n<path fill=\"none\" stroke=\"#000000\" d=\"M109.5,-621.7281C109.5,-613.0091 109.5,-600.4699 109.5,-589.8068\"/>\n<polygon fill=\"#000000\" stroke=\"#000000\" points=\"113.0001,-589.6128 109.5,-579.6128 106.0001,-589.6129 113.0001,-589.6128\"/>\n</g>\n<!-- 140213688294368 -->\n<g id=\"node12\" class=\"node\">\n<title>140213688294368</title>\n<polygon fill=\"#d3d3d3\" stroke=\"#000000\" points=\"111,-706.5 0,-706.5 0,-685.5 111,-685.5 111,-706.5\"/>\n<text text-anchor=\"middle\" x=\"55.5\" y=\"-692.9\" font-family=\"Times,serif\" font-size=\"12.00\" fill=\"#000000\">SqueezeBackward3</text>\n</g>\n<!-- 140213688294368&#45;&gt;140213688294592 -->\n<g id=\"edge11\" class=\"edge\">\n<title>140213688294368&#45;&gt;140213688294592</title>\n<path fill=\"none\" stroke=\"#000000\" d=\"M64.6604,-685.2281C72.6212,-675.8667 84.3273,-662.1012 93.7825,-650.9826\"/>\n<polygon fill=\"#000000\" stroke=\"#000000\" points=\"96.6629,-652.9982 100.4749,-643.1128 91.3304,-648.4634 96.6629,-652.9982\"/>\n</g>\n<!-- 140213688291680 -->\n<g id=\"node13\" class=\"node\">\n<title>140213688291680</title>\n<polygon fill=\"#d3d3d3\" stroke=\"#000000\" points=\"98,-770 13,-770 13,-749 98,-749 98,-770\"/>\n<text text-anchor=\"middle\" x=\"55.5\" y=\"-756.4\" font-family=\"Times,serif\" font-size=\"12.00\" fill=\"#000000\">MmBackward</text>\n</g>\n<!-- 140213688291680&#45;&gt;140213688294368 -->\n<g id=\"edge12\" class=\"edge\">\n<title>140213688291680&#45;&gt;140213688294368</title>\n<path fill=\"none\" stroke=\"#000000\" d=\"M55.5,-748.7281C55.5,-740.0091 55.5,-727.4699 55.5,-716.8068\"/>\n<polygon fill=\"#000000\" stroke=\"#000000\" points=\"59.0001,-716.6128 55.5,-706.6128 52.0001,-716.6129 59.0001,-716.6128\"/>\n</g>\n<!-- 140213688291960 -->\n<g id=\"node14\" class=\"node\">\n<title>140213688291960</title>\n<polygon fill=\"#d3d3d3\" stroke=\"#000000\" points=\"92,-827 19,-827 19,-806 92,-806 92,-827\"/>\n<text text-anchor=\"middle\" x=\"55.5\" y=\"-813.4\" font-family=\"Times,serif\" font-size=\"12.00\" fill=\"#000000\">TBackward</text>\n</g>\n<!-- 140213688291960&#45;&gt;140213688291680 -->\n<g id=\"edge13\" class=\"edge\">\n<title>140213688291960&#45;&gt;140213688291680</title>\n<path fill=\"none\" stroke=\"#000000\" d=\"M55.5,-805.7787C55.5,-798.6134 55.5,-788.9517 55.5,-780.3097\"/>\n<polygon fill=\"#000000\" stroke=\"#000000\" points=\"59.0001,-780.1732 55.5,-770.1732 52.0001,-780.1732 59.0001,-780.1732\"/>\n</g>\n<!-- 140213719232352 -->\n<g id=\"node15\" class=\"node\">\n<title>140213719232352</title>\n<polygon fill=\"#add8e6\" stroke=\"#000000\" points=\"97.5,-897 13.5,-897 13.5,-863 97.5,-863 97.5,-897\"/>\n<text text-anchor=\"middle\" x=\"55.5\" y=\"-883.4\" font-family=\"Times,serif\" font-size=\"12.00\" fill=\"#000000\">linear1.weight</text>\n<text text-anchor=\"middle\" x=\"55.5\" y=\"-870.4\" font-family=\"Times,serif\" font-size=\"12.00\" fill=\"#000000\"> (128, 4)</text>\n</g>\n<!-- 140213719232352&#45;&gt;140213688291960 -->\n<g id=\"edge14\" class=\"edge\">\n<title>140213719232352&#45;&gt;140213688291960</title>\n<path fill=\"none\" stroke=\"#000000\" d=\"M55.5,-862.9832C55.5,-855.1157 55.5,-845.6973 55.5,-837.4019\"/>\n<polygon fill=\"#000000\" stroke=\"#000000\" points=\"59.0001,-837.3686 55.5,-827.3687 52.0001,-837.3687 59.0001,-837.3686\"/>\n</g>\n<!-- 140213688294872 -->\n<g id=\"node16\" class=\"node\">\n<title>140213688294872</title>\n<polygon fill=\"#add8e6\" stroke=\"#000000\" points=\"200,-713 129,-713 129,-679 200,-679 200,-713\"/>\n<text text-anchor=\"middle\" x=\"164.5\" y=\"-699.4\" font-family=\"Times,serif\" font-size=\"12.00\" fill=\"#000000\">linear1.bias</text>\n<text text-anchor=\"middle\" x=\"164.5\" y=\"-686.4\" font-family=\"Times,serif\" font-size=\"12.00\" fill=\"#000000\"> (128)</text>\n</g>\n<!-- 140213688294872&#45;&gt;140213688294592 -->\n<g id=\"edge15\" class=\"edge\">\n<title>140213688294872&#45;&gt;140213688294592</title>\n<path fill=\"none\" stroke=\"#000000\" d=\"M149.761,-678.9832C142.3341,-670.4085 133.3116,-659.9916 125.6918,-651.1942\"/>\n<polygon fill=\"#000000\" stroke=\"#000000\" points=\"128.1065,-648.6361 118.9138,-643.3687 122.8153,-653.219 128.1065,-648.6361\"/>\n</g>\n<!-- 140213688293416 -->\n<g id=\"node17\" class=\"node\">\n<title>140213688293416</title>\n<polygon fill=\"#d3d3d3\" stroke=\"#000000\" points=\"263,-516 190,-516 190,-495 263,-495 263,-516\"/>\n<text text-anchor=\"middle\" x=\"226.5\" y=\"-502.4\" font-family=\"Times,serif\" font-size=\"12.00\" fill=\"#000000\">TBackward</text>\n</g>\n<!-- 140213688293416&#45;&gt;140213688294312 -->\n<g id=\"edge16\" class=\"edge\">\n<title>140213688293416&#45;&gt;140213688294312</title>\n<path fill=\"none\" stroke=\"#000000\" d=\"M215.4026,-494.7787C207.0793,-486.7376 195.5019,-475.5527 185.8139,-466.1931\"/>\n<polygon fill=\"#000000\" stroke=\"#000000\" points=\"188.1715,-463.6042 178.5477,-459.1732 183.3078,-468.6385 188.1715,-463.6042\"/>\n</g>\n<!-- 140213688293248 -->\n<g id=\"node18\" class=\"node\">\n<title>140213688293248</title>\n<polygon fill=\"#add8e6\" stroke=\"#000000\" points=\"268.5,-586 184.5,-586 184.5,-552 268.5,-552 268.5,-586\"/>\n<text text-anchor=\"middle\" x=\"226.5\" y=\"-572.4\" font-family=\"Times,serif\" font-size=\"12.00\" fill=\"#000000\">linear2.weight</text>\n<text text-anchor=\"middle\" x=\"226.5\" y=\"-559.4\" font-family=\"Times,serif\" font-size=\"12.00\" fill=\"#000000\"> (256, 128)</text>\n</g>\n<!-- 140213688293248&#45;&gt;140213688293416 -->\n<g id=\"edge17\" class=\"edge\">\n<title>140213688293248&#45;&gt;140213688293416</title>\n<path fill=\"none\" stroke=\"#000000\" d=\"M226.5,-551.9832C226.5,-544.1157 226.5,-534.6973 226.5,-526.4019\"/>\n<polygon fill=\"#000000\" stroke=\"#000000\" points=\"230.0001,-526.3686 226.5,-516.3687 223.0001,-526.3687 230.0001,-526.3686\"/>\n</g>\n<!-- 140213688295320 -->\n<g id=\"node19\" class=\"node\">\n<title>140213688295320</title>\n<polygon fill=\"#add8e6\" stroke=\"#000000\" points=\"312,-402 241,-402 241,-368 312,-368 312,-402\"/>\n<text text-anchor=\"middle\" x=\"276.5\" y=\"-388.4\" font-family=\"Times,serif\" font-size=\"12.00\" fill=\"#000000\">linear2.bias</text>\n<text text-anchor=\"middle\" x=\"276.5\" y=\"-375.4\" font-family=\"Times,serif\" font-size=\"12.00\" fill=\"#000000\"> (256)</text>\n</g>\n<!-- 140213688295320&#45;&gt;140213688234224 -->\n<g id=\"edge18\" class=\"edge\">\n<title>140213688295320&#45;&gt;140213688234224</title>\n<path fill=\"none\" stroke=\"#000000\" d=\"M261.761,-367.9832C254.3341,-359.4085 245.3116,-348.9916 237.6918,-340.1942\"/>\n<polygon fill=\"#000000\" stroke=\"#000000\" points=\"240.1065,-337.6361 230.9138,-332.3687 234.8153,-342.219 240.1065,-337.6361\"/>\n</g>\n<!-- 140213688234504 -->\n<g id=\"node20\" class=\"node\">\n<title>140213688234504</title>\n<polygon fill=\"#d3d3d3\" stroke=\"#000000\" points=\"375,-205 302,-205 302,-184 375,-184 375,-205\"/>\n<text text-anchor=\"middle\" x=\"338.5\" y=\"-191.4\" font-family=\"Times,serif\" font-size=\"12.00\" fill=\"#000000\">TBackward</text>\n</g>\n<!-- 140213688234504&#45;&gt;140213688236856 -->\n<g id=\"edge19\" class=\"edge\">\n<title>140213688234504&#45;&gt;140213688236856</title>\n<path fill=\"none\" stroke=\"#000000\" d=\"M327.4026,-183.7787C319.0793,-175.7376 307.5019,-164.5527 297.8139,-155.1931\"/>\n<polygon fill=\"#000000\" stroke=\"#000000\" points=\"300.1715,-152.6042 290.5477,-148.1732 295.3078,-157.6385 300.1715,-152.6042\"/>\n</g>\n<!-- 140213688235400 -->\n<g id=\"node21\" class=\"node\">\n<title>140213688235400</title>\n<polygon fill=\"#add8e6\" stroke=\"#000000\" points=\"380.5,-275 296.5,-275 296.5,-241 380.5,-241 380.5,-275\"/>\n<text text-anchor=\"middle\" x=\"338.5\" y=\"-261.4\" font-family=\"Times,serif\" font-size=\"12.00\" fill=\"#000000\">linear3.weight</text>\n<text text-anchor=\"middle\" x=\"338.5\" y=\"-248.4\" font-family=\"Times,serif\" font-size=\"12.00\" fill=\"#000000\"> (1, 256)</text>\n</g>\n<!-- 140213688235400&#45;&gt;140213688234504 -->\n<g id=\"edge20\" class=\"edge\">\n<title>140213688235400&#45;&gt;140213688234504</title>\n<path fill=\"none\" stroke=\"#000000\" d=\"M338.5,-240.9832C338.5,-233.1157 338.5,-223.6973 338.5,-215.4019\"/>\n<polygon fill=\"#000000\" stroke=\"#000000\" points=\"342.0001,-215.3686 338.5,-205.3687 335.0001,-215.3687 342.0001,-215.3686\"/>\n</g>\n<!-- 140213688237920 -->\n<g id=\"node22\" class=\"node\">\n<title>140213688237920</title>\n<polygon fill=\"#add8e6\" stroke=\"#000000\" points=\"424,-91 353,-91 353,-57 424,-57 424,-91\"/>\n<text text-anchor=\"middle\" x=\"388.5\" y=\"-77.4\" font-family=\"Times,serif\" font-size=\"12.00\" fill=\"#000000\">linear3.bias</text>\n<text text-anchor=\"middle\" x=\"388.5\" y=\"-64.4\" font-family=\"Times,serif\" font-size=\"12.00\" fill=\"#000000\"> (1)</text>\n</g>\n<!-- 140213688237920&#45;&gt;140213688236464 -->\n<g id=\"edge21\" class=\"edge\">\n<title>140213688237920&#45;&gt;140213688236464</title>\n<path fill=\"none\" stroke=\"#000000\" d=\"M373.761,-56.9832C366.3341,-48.4085 357.3116,-37.9916 349.6918,-29.1942\"/>\n<polygon fill=\"#000000\" stroke=\"#000000\" points=\"352.1065,-26.6361 342.9138,-21.3687 346.8153,-31.219 352.1065,-26.6361\"/>\n</g>\n</g>\n</svg>\n"
          },
          "metadata": {
            "tags": []
          },
          "execution_count": 11
        }
      ]
    }
  ]
}